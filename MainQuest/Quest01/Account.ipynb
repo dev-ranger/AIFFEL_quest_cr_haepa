{
  "nbformat": 4,
  "nbformat_minor": 0,
  "metadata": {
    "colab": {
      "provenance": [],
      "authorship_tag": "ABX9TyOjk2Ox7uTbRqr8/4YY4AXW",
      "include_colab_link": true
    },
    "kernelspec": {
      "name": "python3",
      "display_name": "Python 3"
    },
    "language_info": {
      "name": "python"
    }
  },
  "cells": [
    {
      "cell_type": "markdown",
      "metadata": {
        "id": "view-in-github",
        "colab_type": "text"
      },
      "source": [
        "<a href=\"https://colab.research.google.com/github/haepada/AIFFEL_quest_cr/blob/main/MainQuest/Quest01/Account.ipynb\" target=\"_parent\"><img src=\"https://colab.research.google.com/assets/colab-badge.svg\" alt=\"Open In Colab\"/></a>"
      ]
    },
    {
      "cell_type": "markdown",
      "source": [
        "# [메인 퀘스트 1번: 은행계좌 만들기 - 3점]\n",
        "\n",
        "Q1. Account 클래스 : 은행에 가서 계좌를 개설하면 은행이름, 예금주, 계좌번호, 잔액이 설정됩니다. Account 클래스를 생성한 후 생성자(hint: 매직매서드..!!)를 구현해보세요. 생성자에서는 예금주와 초기 잔액만 입력 받습니다. 은행이름은 SC은행으로 계좌번호는 3자리-2자리-6자리 형태로 랜덤하게 생성됩니다. (은행이름: SC은행, 계좌번호: 111-11-111111)\n",
        "\n",
        "Q2. 클래스 변수: 클래스 변수를 사용해서 Account 클래스로부터 생성된 계좌 객체의 개수를 저장하세요.\n",
        "\n",
        "Q3. 클래스 변수 출력 : Account 클래스로부터 생성된 계좌의 개수를 출력하는 get_account_num() 메서드를 추가하세요.\n",
        "\n",
        "Q4. 입금 메서드 : Account 클래스에 입금을 위한 deposit 메서드를 추가하세요. 입금은 최소 1원 이상만 가능합니다.\n",
        "\n",
        "Q5. 출금 메서드 : Account 클래스에 출금을 위한 withdraw 메서드를 추가하세요. 출금은 계좌의 잔고 이상으로 출금할 수는 없습니다.\n",
        "\n",
        "Q6. 정보 출력 메서드 : Account 인스턴스에 저장된 정보를 출력하는 display_info() 메서드를 추가하세요. 잔고는 세자리마다 쉼표를 출력하세요.\n",
        "(은행이름: SC은행, 예금주: 파이썬, 계좌번호: 111-11-111111, 잔고: 10,000원)\n",
        "\n",
        "Q7. 이자 지급하기 : 입금 횟수가 5회가 될 때 잔고를 기준으로 1%의 이자가 잔고에 추가되도록 코드를 변경해보세요.\n",
        "\n",
        "Q8. 여러 객체 생성 : Account 클래스로부터 3개 이상 인스턴스를 생성하고 생성된 인스턴스를 리스트에 저장해보세요.\n",
        "\n",
        "Q9. 객체 순회 반복문을 통해 리스트에 있는 객체를 순회하면서 잔고가 100만원 이상인 고객의 정보만 출력하세요.\n",
        "\n",
        "Q10. 입금과 출금 내역이 기록되도록 코드를 업데이트 하세요.\n",
        "(입금 내역과 출금 내역을 출력하는 deposit_history와 withdraw_history 메서드를 추가하세요.)\n",
        "\n"
      ],
      "metadata": {
        "id": "X5JvrIip18Dw"
      }
    },
    {
      "cell_type": "code",
      "source": [
        "import random\n",
        "\n",
        "class Account:\n",
        "    bank = \"SC은행\"\n",
        "    account_count = 0 #Q2. 클래스 변수로 생성된 계좌 객체의 개수 저장\n",
        "    account_list = []\n",
        "\n",
        "    #Q1. Account 클래스 만들기 (예금주와, 초기 잔액만 입금받기)\n",
        "    def __init__(self, name, balance):\n",
        "        self.name = name\n",
        "        self.balance = balance\n",
        "        self.account_number = self.generate_account_number() #01. 랜덤 계좌번호 생성\n",
        "        self.deposit_count = 0 #입금횟수\n",
        "        self.deposit_history_log = [] #Q10. 입금 내역 저장\n",
        "        self.withdraw_history_log = [] #Q10.출금 내역 저장\n",
        "        Account.account_count += 1 #Q2. 계좌 생성 시 마다 생성된 계좌 수 증가\n",
        "        Account.account_list.append(self)  # 생성된 계좌를 리스트에 저장\n",
        "\n",
        "    #Q1.계좌는 3-2-6자리로 랜덤하게 생성\n",
        "    def generate_account_number(self):\n",
        "        num1 = str(random.randint(0, 999)).zfill(3)\n",
        "        num2 = str(random.randint(0, 99)).zfill(2)\n",
        "        num3 = str(random.randint(0, 999999)).zfill(6)\n",
        "        return f\"{num1}-{num2}-{num3}\"\n",
        "\n",
        "    #Q3.클래스 변수 출력, 생성된 계좌의 개수를 출력하는 get_account_num() 메서드\n",
        "    def get_account_num():\n",
        "        print(f\"생성된 계좌의 총 개수:{Account.account_count}개\")\n",
        "\n",
        "    #Q4. 입금 메서드 구현 (최소 1원 이상만 입금 가능)\n",
        "    def deposit(self, amount):\n",
        "        if amount < 1:\n",
        "          print(\"입금은 최소 1원 이상만 가능합니다.\")\n",
        "        else:\n",
        "            self.balance += amount #잔액 업데이트\n",
        "            self.deposit_count += 1 #입금 횟수 증가\n",
        "            self.deposit_history_log.append(f\"{len(self.deposit_history_log) + 1}회:    입금 {amount}원     잔액{self.balance}\")\n",
        "            print(f\"{amount:,}원이 입금되었습니다. \\n - 현재잔액 : {self.balance:,}\")\n",
        "            # Q7. 입금 횟수 5회마다 잔고 기준으로 1% 이자 지급\n",
        "            if self.deposit_count % 5 == 0: #입금 횟수 5회마다 이자 지급\n",
        "                interest = int(self.balance * 0.01)\n",
        "                self.balance = self.balance + interest\n",
        "                self.deposit_history_log.append(f\"{len(self.deposit_history_log) + 1}회:    이자 {interest}원     잔액{self.balance}\")\n",
        "                print(f\"이자가 {interest:,}원 지급되었습니다. \\n - 현재잔액 : {self.balance:,}\")\n",
        "\n",
        "    #Q5. 출금 메서드 : Account 클래스에 출금을 위한 withdraw 메서드를 추가\n",
        "    def withdraw(self, amount):\n",
        "        if amount > self.balance: #계좌 잔고 이상으로 출력 불가\n",
        "            print(\"잔액이 부족합니다.계좌 잔고 이상으로 출금할 수 없습니다.\")\n",
        "        else:\n",
        "            self.balance -= amount\n",
        "            self.withdraw_history_log.append(f\"{len(self.withdraw_history_log) + 1}회:    출금 {amount}원     잔액{self.balance}\")\n",
        "            print(f\"{amount:,}원이 출금되었습니다. \\n - 현재잔액 : {self.balance:,}\")\n",
        "\n",
        "    #06. Account 인스턴스에 저장된 정보를 출력. 잔고는 세자리마다 쉼표를 출력\n",
        "    def display_info(self):\n",
        "        print(f\"{self.bank}, 예금주: {self.name}, 계좌번호: {self.account_number}, 잔고: {self.balance:,}원 \")  #잔고 세자리마다 쉼표 출력\n",
        "\n",
        "    #Q10. 입금과 출금 내역이 기록\n",
        "    def deposit_history(self):\n",
        "        for amount in self.deposit_history_log:\n",
        "            print(amount)\n",
        "\n",
        "    def withdraw_history(self):\n",
        "        for amount in self.withdraw_history_log:\n",
        "            print(amount)\n",
        "\n",
        "\n",
        ""
      ],
      "metadata": {
        "id": "K9S4qucq3mJT"
      },
      "execution_count": 287,
      "outputs": []
    },
    {
      "cell_type": "code",
      "source": [
        "#Q8. Account 클래스로부터 3개 이상 인스턴스를 생성하고 생성된 인스턴스를 리스트에 저장해보세요.\n",
        "\n",
        "account1 = Account(\"전승아\", 800000)\n",
        "account2 = Account(\"이영빈\", 10000000)\n",
        "account3 = Account(\"차정은\", 2000000)"
      ],
      "metadata": {
        "id": "yLJ47wsiB5Ud"
      },
      "execution_count": 288,
      "outputs": []
    },
    {
      "cell_type": "code",
      "source": [
        "account1.deposit(100000)\n",
        "account1.withdraw(30000)\n",
        "account1.deposit(-500000)\n",
        "account1.withdraw(400000)\n",
        "account1.deposit(3000)\n",
        "account1.deposit(5000)\n",
        "account1.deposit(10000)\n",
        "account1.deposit(10000)\n",
        "account1.withdraw(1000000)"
      ],
      "metadata": {
        "colab": {
          "base_uri": "https://localhost:8080/"
        },
        "id": "TVTHhq6JHGB0",
        "outputId": "b522cdee-d973-4c71-9909-0a83a4ebb8d9"
      },
      "execution_count": 289,
      "outputs": [
        {
          "output_type": "stream",
          "name": "stdout",
          "text": [
            "100,000원이 입금되었습니다. \n",
            " - 현재잔액 : 900,000\n",
            "30,000원이 출금되었습니다. \n",
            " - 현재잔액 : 870,000\n",
            "입금은 최소 1원 이상만 가능합니다.\n",
            "400,000원이 출금되었습니다. \n",
            " - 현재잔액 : 470,000\n",
            "3,000원이 입금되었습니다. \n",
            " - 현재잔액 : 473,000\n",
            "5,000원이 입금되었습니다. \n",
            " - 현재잔액 : 478,000\n",
            "10,000원이 입금되었습니다. \n",
            " - 현재잔액 : 488,000\n",
            "10,000원이 입금되었습니다. \n",
            " - 현재잔액 : 498,000\n",
            "이자가 4,980원 지급되었습니다. \n",
            " - 현재잔액 : 502,980\n",
            "잔액이 부족합니다.계좌 잔고 이상으로 출금할 수 없습니다.\n"
          ]
        }
      ]
    },
    {
      "cell_type": "code",
      "source": [
        "Account.get_account_num()"
      ],
      "metadata": {
        "colab": {
          "base_uri": "https://localhost:8080/"
        },
        "id": "O7QOvr1bJsV8",
        "outputId": "34968190-7c35-42b8-8efd-5edd6b90fe82"
      },
      "execution_count": 290,
      "outputs": [
        {
          "output_type": "stream",
          "name": "stdout",
          "text": [
            "생성된 계좌의 총 개수:3개\n"
          ]
        }
      ]
    },
    {
      "cell_type": "code",
      "source": [
        "#Q9. 객체 순회 반복문을 통해 리스트에 있는 객체를 순회하면서 잔고가 100만원 이상인 고객의 정보만 출력하세요.\n",
        "print(\"잔고가 100만원 이상인 고객 정보:\")\n",
        "for account in Account.account_list:\n",
        "    if account.balance >= 1000000:\n",
        "        account.display_info()"
      ],
      "metadata": {
        "colab": {
          "base_uri": "https://localhost:8080/"
        },
        "id": "G0P7_sxNHEAY",
        "outputId": "1bddadbc-4a6c-470f-9ec7-5d2306614e0e"
      },
      "execution_count": 291,
      "outputs": [
        {
          "output_type": "stream",
          "name": "stdout",
          "text": [
            "잔고가 100만원 이상인 고객 정보:\n",
            "SC은행, 예금주: 이영빈, 계좌번호: 660-81-379551, 잔고: 10,000,000원 \n",
            "SC은행, 예금주: 차정은, 계좌번호: 683-41-158489, 잔고: 2,000,000원 \n"
          ]
        }
      ]
    },
    {
      "cell_type": "code",
      "source": [
        "#Q10. 입금과 출금 내역 기록 확인\n",
        "account1.deposit_history()\n",
        "print('-'*50)\n",
        "account1.withdraw_history()"
      ],
      "metadata": {
        "colab": {
          "base_uri": "https://localhost:8080/"
        },
        "id": "pzMaFfCSNvQg",
        "outputId": "d649ece4-d025-4a9f-a766-ec7193926c9e"
      },
      "execution_count": 292,
      "outputs": [
        {
          "output_type": "stream",
          "name": "stdout",
          "text": [
            "1회:    입금 100000원     잔액900000\n",
            "2회:    입금 3000원     잔액473000\n",
            "3회:    입금 5000원     잔액478000\n",
            "4회:    입금 10000원     잔액488000\n",
            "5회:    입금 10000원     잔액498000\n",
            "6회:    이자 4980원     잔액502980\n",
            "--------------------------------------------------\n",
            "1회:    출금 30000원     잔액870000\n",
            "2회:    출금 400000원     잔액470000\n"
          ]
        }
      ]
    }
  ]
}